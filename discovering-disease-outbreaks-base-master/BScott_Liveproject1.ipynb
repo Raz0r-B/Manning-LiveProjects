{
 "cells": [
  {
   "cell_type": "markdown",
   "metadata": {},
   "source": [
    "# First Notebook of the Discovering Diseases Live Project\n",
    "\n",
    "## Summary\n",
    "\n",
    "In this notebook we took in the headline data to parse out city and country names. The final dataframe is saved under \"headlines_dataframe.json\""
   ]
  },
  {
   "cell_type": "markdown",
   "metadata": {},
   "source": [
    "## Libraries"
   ]
  },
  {
   "cell_type": "code",
   "execution_count": 47,
   "metadata": {},
   "outputs": [],
   "source": [
    "import pandas as pd\n",
    "import geonamescache\n",
    "import re\n",
    "import unidecode"
   ]
  },
  {
   "cell_type": "markdown",
   "metadata": {},
   "source": [
    "## Open and reads in headlines"
   ]
  },
  {
   "cell_type": "code",
   "execution_count": null,
   "metadata": {},
   "outputs": [],
   "source": [
    "f = open(r'C:\\Users\\Mech\\Desktop\\Programming\\Coding Books and Videos\\Manning LiveProjects\\discovering-disease-outbreaks-base-master\\data\\headlines.txt', 'r')\n",
    "\n",
    "parse = f.read()\n",
    "\n",
    "headlines = unidecode.unidecode(parse).split('\\n')\n",
    "\n",
    "headlines"
   ]
  },
  {
   "cell_type": "markdown",
   "metadata": {},
   "source": [
    "## Add headlines to dataframe column"
   ]
  },
  {
   "cell_type": "code",
   "execution_count": 15,
   "metadata": {},
   "outputs": [],
   "source": [
    "df = pd.DataFrame()\n",
    "\n",
    "df['Headlines'] = headlines\n",
    "\n"
   ]
  },
  {
   "cell_type": "markdown",
   "metadata": {},
   "source": [
    "## Get city info from geonamescache"
   ]
  },
  {
   "cell_type": "code",
   "execution_count": 22,
   "metadata": {},
   "outputs": [],
   "source": [
    "gs = geonamescache.GeonamesCache()\n",
    "\n",
    "cities = gs.get_cities().values()\n",
    "countries = gs.get_countries().values()\n",
    "\n",
    "city_names = [city['name'] for city in cities]\n",
    "country_names = [country['name'] for country in countries]\n",
    "#country_names = [for i in countries: country_names.append(countries[i]['name']]\n",
    "#for i in cities: city_names.append(cities[i]['name'])\n",
    "\n"
   ]
  },
  {
   "cell_type": "markdown",
   "metadata": {},
   "source": [
    "## Handle unicode issues\n",
    "\n",
    "### Dictionary def = {decoded name: original, coded name}"
   ]
  },
  {
   "cell_type": "markdown",
   "metadata": {},
   "source": [
    "Handling Country and City names"
   ]
  },
  {
   "cell_type": "code",
   "execution_count": 29,
   "metadata": {},
   "outputs": [],
   "source": [
    "city_decode = {unidecode.unidecode(city): city for city in city_names}\n",
    "\n",
    "country_decode = {unidecode.unidecode(country): country for country in country_names}"
   ]
  },
  {
   "cell_type": "code",
   "execution_count": 33,
   "metadata": {},
   "outputs": [
    {
     "data": {
      "text/plain": [
       "'Krujë'"
      ]
     },
     "execution_count": 33,
     "metadata": {},
     "output_type": "execute_result"
    }
   ],
   "source": [
    "city_decode['Kruje']"
   ]
  },
  {
   "cell_type": "markdown",
   "metadata": {},
   "source": [
    "Handling the headlines"
   ]
  },
  {
   "cell_type": "code",
   "execution_count": 35,
   "metadata": {},
   "outputs": [],
   "source": [
    "headlines = [unidecode.unidecode(headline) for headline in headlines]"
   ]
  },
  {
   "cell_type": "code",
   "execution_count": 37,
   "metadata": {},
   "outputs": [
    {
     "data": {
      "text/plain": [
       "['Zika Outbreak Hits Miami',\n",
       " 'Could Zika Reach New York City?',\n",
       " 'First Case of Zika in Miami Beach',\n",
       " 'Mystery Virus Spreads in Recife, Brazil',\n",
       " 'Dallas man comes down with case of Zika',\n",
       " 'Trinidad confirms first Zika case',\n",
       " 'Zika Concerns are Spreading in Houston',\n",
       " 'Geneve Scientists Battle to Find Cure',\n",
       " 'The CDC in Atlanta is Growing Worried',\n",
       " 'Zika Infested Monkeys in Sao Paulo',\n",
       " 'Brownsville teen contracts Zika virus',\n",
       " 'Mosquito control efforts in St. Louis take new tactics with Zika threat',\n",
       " 'San Juan reports 1st U.S. Zika-related death amid outbreak',\n",
       " 'Flu outbreak in Galveston, Texas',\n",
       " 'Zika alert aEUR\" Manila now threatened']"
      ]
     },
     "execution_count": 37,
     "metadata": {},
     "output_type": "execute_result"
    }
   ],
   "source": [
    "headlines[:15]"
   ]
  },
  {
   "cell_type": "markdown",
   "metadata": {},
   "source": [
    "## Handling the DataFrame and Regex matching"
   ]
  },
  {
   "cell_type": "code",
   "execution_count": 52,
   "metadata": {},
   "outputs": [],
   "source": [
    "#Creating DF\n",
    "df = pd.DataFrame()\n",
    "df['headlines'] = headlines\n"
   ]
  },
  {
   "cell_type": "code",
   "execution_count": 53,
   "metadata": {},
   "outputs": [],
   "source": [
    "# Compiling regex operators\n",
    "cities_re = re.compile(r'\\b(?:%s)\\b' % '|'.join(city_decode.keys()))\n",
    "countries_re = re.compile(r'\\b(?:%s)\\b' % '|'.join(country_decode.keys()))"
   ]
  },
  {
   "cell_type": "code",
   "execution_count": 54,
   "metadata": {},
   "outputs": [],
   "source": [
    "\n",
    "df['city'] = None\n",
    "for i in range(len(df)):\n",
    "    for match in cities_re.finditer(df['headlines'][i]):\n",
    "        df['city'][i] = match.group(0)\n",
    "        \n",
    "df['country'] = None\n",
    "for i in range(len(df)):\n",
    "    for match in countries_re.finditer(df['headlines'][i]):\n",
    "        df['country'][i] = match.group(0)\n",
    "        \n",
    "    \n",
    "\n",
    "    "
   ]
  },
  {
   "cell_type": "code",
   "execution_count": 108,
   "metadata": {},
   "outputs": [
    {
     "name": "stdout",
     "output_type": "stream",
     "text": [
      "Count of missing Cities: 43\n",
      "Count of missing Countries: 636\n"
     ]
    }
   ],
   "source": [
    "\n",
    "print(f\"Count of missing Cities: {len(df.loc[df['city'].isna(), 'city'])}\")\n",
    "print(f\"Count of missing Countries: {len(df.loc[df['country'].isna(), 'country'])}\")\n"
   ]
  },
  {
   "cell_type": "markdown",
   "metadata": {},
   "source": [
    "Saving final DataFrame"
   ]
  },
  {
   "cell_type": "code",
   "execution_count": 111,
   "metadata": {},
   "outputs": [],
   "source": [
    "\n",
    "df.to_json('headlines_dataframe.json')"
   ]
  },
  {
   "cell_type": "code",
   "execution_count": null,
   "metadata": {},
   "outputs": [],
   "source": []
  }
 ],
 "metadata": {
  "kernelspec": {
   "display_name": "Python 3.9.4 64-bit",
   "language": "python",
   "name": "python3"
  },
  "language_info": {
   "codemirror_mode": {
    "name": "ipython",
    "version": 3
   },
   "file_extension": ".py",
   "mimetype": "text/x-python",
   "name": "python",
   "nbconvert_exporter": "python",
   "pygments_lexer": "ipython3",
   "version": "3.9.4"
  },
  "orig_nbformat": 4,
  "vscode": {
   "interpreter": {
    "hash": "81794d4967e6c3204c66dcd87b604927b115b27c00565d3d43f05ba2f3a2cb0d"
   }
  }
 },
 "nbformat": 4,
 "nbformat_minor": 2
}
